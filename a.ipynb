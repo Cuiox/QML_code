{
 "cells": [
  {
   "cell_type": "code",
   "execution_count": 1,
   "metadata": {},
   "outputs": [],
   "source": [
    "import random\n",
    "import pennylane as qml\n",
    "import jax\n",
    "from jax import numpy as jnp\n",
    "import numpy as np\n",
    "from templates.layers.naive_strong_entangler import StronglyEntanglingLayers"
   ]
  },
  {
   "cell_type": "code",
   "execution_count": 37,
   "metadata": {},
   "outputs": [],
   "source": [
    "num_qubits = 3\n",
    "num_layers = 3\n",
    "dev = qml.device('default.mixed', wires=num_qubits)\n",
    "\n",
    "@qml.qnode(dev, interface=\"jax\")\n",
    "def circuit(x, weights, p=None):\n",
    "    qml.AmplitudeEmbedding(features=x, wires=range(num_qubits), normalize=True, pad_with=True)\n",
    "    qml.StronglyEntanglingLayers(weights=weights, wires=range(num_qubits))\n",
    "    #StronglyEntanglingLayers(weights=weights, wires=range(num_qubits))\n",
    "\n",
    "    return qml.expval(qml.PauliZ(wires=1))"
   ]
  },
  {
   "cell_type": "code",
   "execution_count": 38,
   "metadata": {},
   "outputs": [
    {
     "name": "stdout",
     "output_type": "stream",
     "text": [
      "0: ─╭QubitStateVector(M0)──Rot(0.37,0.95,0.73)─╭●────╭X──Rot(0.71,0.02,0.97)─╭●─╭X──Rot(0.43,0.29,0.61)──────────────────────╭●────╭X─┤     \n",
      "1: ─├QubitStateVector(M0)──Rot(0.60,0.16,0.16)─╰X─╭●─│───Rot(0.83,0.21,0.18)─│──╰●─╭X────────────────────Rot(0.14,0.29,0.37)─╰X─╭●─│──┤  <Z>\n",
      "2: ─╰QubitStateVector(M0)──Rot(0.06,0.87,0.60)────╰X─╰●──Rot(0.18,0.30,0.52)─╰X────╰●────────────────────Rot(0.46,0.79,0.20)────╰X─╰●─┤     \n"
     ]
    }
   ],
   "source": [
    "x = np.array([1, 2])\n",
    "weight_shape = StronglyEntanglingLayers.shape(n_layers=num_layers, n_wires=num_qubits)\n",
    "np.random.seed(42)\n",
    "weights =  weights = np.random.random(size=weight_shape)\n",
    "p = 0\n",
    "print(qml.draw(circuit, decimals=2, max_length=1000, expansion_strategy=\"device\")(x, weights, p))"
   ]
  },
  {
   "cell_type": "code",
   "execution_count": 2,
   "metadata": {},
   "outputs": [
    {
     "name": "stdout",
     "output_type": "stream",
     "text": [
      "ranges = [1, 2, 1]\n",
      "p = [0.1 0.2 0.3]\n",
      "0: ─╭QubitStateVector(M0)──Rot(0.37,0.95,0.73)──DepolarizingChannel(0.10)─╭●──DepolarizingChannel(0.10)───────────────────────────────╭X──DepolarizingChannel(0.10)──Rot(0.71,0.02,0.97)────────DepolarizingChannel(0.10)─╭●──DepolarizingChannel(0.10)─╭X──DepolarizingChannel(0.10)──Rot(0.43,0.29,0.61)──DepolarizingChannel(0.10)─────────────────────────────────────────────────╭●──DepolarizingChannel(0.10)───────────────────────────────╭X──DepolarizingChannel(0.10)─┤     \n",
      "1: ─├QubitStateVector(M0)──Rot(0.60,0.16,0.16)──DepolarizingChannel(0.20)─╰X──DepolarizingChannel(0.20)─╭●──DepolarizingChannel(0.20)─│───Rot(0.83,0.21,0.18)────────DepolarizingChannel(0.20)────────────────────────────│─────────────────────────────╰●──DepolarizingChannel(0.20)─╭X────────────────────DepolarizingChannel(0.20)──Rot(0.14,0.29,0.37)──DepolarizingChannel(0.20)─╰X──DepolarizingChannel(0.20)─╭●──DepolarizingChannel(0.20)─│─────────────────────────────┤  <Z>\n",
      "2: ─╰QubitStateVector(M0)──Rot(0.06,0.87,0.60)──DepolarizingChannel(0.30)───────────────────────────────╰X──DepolarizingChannel(0.30)─╰●──DepolarizingChannel(0.30)──Rot(0.18,0.30,0.52)────────DepolarizingChannel(0.30)─╰X──DepolarizingChannel(0.30)───────────────────────────────╰●────────────────────DepolarizingChannel(0.30)──Rot(0.46,0.79,0.20)──DepolarizingChannel(0.30)───────────────────────────────╰X──DepolarizingChannel(0.30)─╰●──DepolarizingChannel(0.30)─┤     \n"
     ]
    }
   ],
   "source": [
    "num_qubits = 3\n",
    "num_layers = 3\n",
    "dev = qml.device('default.mixed', wires=num_qubits)\n",
    "\n",
    "@qml.qnode(dev, interface=\"jax\")\n",
    "def circuit(x, weights, p=None):\n",
    "    qml.AmplitudeEmbedding(features=x, wires=range(num_qubits), normalize=True, pad_with=True)\n",
    "    #qml.StronglyEntanglingLayers(weights=weights, wires=range(num_qubits))\n",
    "    StronglyEntanglingLayers(weights=weights, wires=range(num_qubits), p=p)\n",
    "\n",
    "    return qml.expval(qml.PauliZ(wires=1))\n",
    "\n",
    "np.random.seed(42)\n",
    "x = np.array([1, 2])\n",
    "weight_shape = StronglyEntanglingLayers.shape(n_layers=num_layers, n_wires=num_qubits)\n",
    "weights =  weights = np.random.random(size=weight_shape)\n",
    "p = [0.1, 0.2, 0.3]\n",
    "print(qml.draw(circuit, decimals=2, max_length=1000, expansion_strategy=\"device\")(x, weights, p))"
   ]
  },
  {
   "cell_type": "code",
   "execution_count": 2,
   "metadata": {},
   "outputs": [
    {
     "name": "stdout",
     "output_type": "stream",
     "text": [
      "tensor([7, 2, 1, 0, 4, 1, 4, 9, 5, 9, 0, 6, 9, 0, 1, 5, 9, 7, 3, 4, 9, 6, 6, 5,\n",
      "        4, 0, 7, 4, 0, 1, 3, 1])\n",
      "torch.Size([32])\n"
     ]
    },
    {
     "data": {
      "image/png": "[encoded data removed]",
      "text/plain": [
       "<Figure size 640x480 with 6 Axes>"
      ]
     },
     "metadata": {},
     "output_type": "display_data"
    }
   ],
   "source": [
    "import torch\n",
    "from torch import nn, optim\n",
    "from torch.utils.data import DataLoader\n",
    "from torchvision import datasets, transforms\n",
    "\n",
    "data_tf = transforms.Compose(\n",
    "    [transforms.ToTensor(),\n",
    "     transforms.Normalize([0.5], [0.5])])\n",
    "\n",
    "batch_size = 32\n",
    "# 读取测试数据，train=True读取训练数据；train=False读取测试数据\n",
    "train_dataset = datasets.MNIST(root='./data', train=True, transform=data_tf)\n",
    "test_dataset = datasets.MNIST(root='./data', train=False, transform=data_tf)\n",
    "test_loader = DataLoader(test_dataset, batch_size=batch_size, shuffle=False)\n",
    "\n",
    "examples = enumerate(test_loader) #img&label\n",
    "batch_idx, (imgs, labels) = next(examples) #读取数据,batch_idx从0开始\n",
    "\n",
    "print(labels) #读取标签数据\n",
    "print(labels.shape) #torch.Size([32])，因为batch_size为32\n",
    "\n",
    "#-------------------------------数据显示--------------------------------------------\n",
    "#显示6张图片\n",
    "import matplotlib.pyplot as plt\n",
    "fig = plt.figure()\n",
    "for i in range(6):\n",
    "  plt.subplot(2,3,i+1)\n",
    "  plt.tight_layout()\n",
    "  plt.imshow(imgs[i][0], cmap='gray', interpolation='none')#子显示\n",
    "  plt.title(\"Ground Truth: {}\".format(labels[i])) #显示title\n",
    "  plt.xticks([])\n",
    "  plt.yticks([])\n",
    "\n",
    "plt.show()\n"
   ]
  },
  {
   "cell_type": "code",
   "execution_count": 4,
   "metadata": {},
   "outputs": [
    {
     "name": "stdout",
     "output_type": "stream",
     "text": [
      "4.7.0\n"
     ]
    }
   ],
   "source": [
    "import cv2\n",
    "print(cv2.__version__)"
   ]
  },
  {
   "cell_type": "code",
   "execution_count": 33,
   "metadata": {},
   "outputs": [
    {
     "name": "stdout",
     "output_type": "stream",
     "text": [
      "60000\n",
      "10000\n",
      "1135\n"
     ]
    }
   ],
   "source": [
    "import torch\n",
    "from torchvision import datasets, transforms\n",
    "import cv2\n",
    "import matplotlib.pyplot as plt\n",
    "\n",
    "# 定义转换\n",
    "transform = transforms.Compose([transforms.ToTensor()])\n",
    "\n",
    "# 加载训练集\n",
    "trainset = datasets.MNIST('./data/', download=True, train=True, transform=transform)\n",
    "trainloader = torch.utils.data.DataLoader(trainset, batch_size=1, shuffle=False)\n",
    "\n",
    "# 加载测试集\n",
    "testset = datasets.MNIST('./data/', download=True, train=False, transform=transform)\n",
    "testloader = torch.utils.data.DataLoader(testset, batch_size=1, shuffle=False)\n",
    "\n",
    "print(len(trainloader))\n",
    "print(len(testloader))\n",
    "\n",
    "size = 8\n",
    "count = 0\n",
    "for i in range(len(testset)):\n",
    "    img, label = testset[i]\n",
    "    if label == 1:\n",
    "        img_resized = cv2.resize(img.squeeze().numpy(), (size, size), interpolation=cv2.INTER_AREA)\n",
    "        #img_resized = cv2.resize(img.squeeze().numpy(), (8, 8))\n",
    "        #plt.imshow(img_resized, cmap='gray')\n",
    "        plt.imsave(f'data/mnist/size_{size}/test/{label}/{count}.png', img_resized, cmap='gray')\n",
    "        #plt.imshow(img.squeeze().numpy(), cmap='gray')\n",
    "        count = count + 1\n",
    "        \n",
    "        \n",
    "print(count)"
   ]
  },
  {
   "cell_type": "code",
   "execution_count": 7,
   "metadata": {},
   "outputs": [
    {
     "name": "stdout",
     "output_type": "stream",
     "text": [
      "[-1 -1]\n",
      "[[  0   0   0   0   0   0   0   0   0   0   0  69 179  73   0   0   0   0\n",
      "   83 162 123 255   0   0   0   0 197  32  30 246   0   0   0   0 247   0\n",
      "   17 235   0   0   0   0 227   7  83 217   0   0   0   0 156 253 209  23\n",
      "    0   0   0   0   3  31   2   0   0   0]\n",
      " [  0   0   0   0   0   0   0   0   0   0   0   1  22 188   0   0   0   0\n",
      "   80 220 173 195  10   0   0  34 255  39   3 161  73   0   0  97 166   0\n",
      "    0 124  88   0   0  69 210   4  22 232  27   0   0   0 110 205 170  47\n",
      "    0   0   0   0   0   0   0   0   0   0]]\n",
      "[-1 -1]\n",
      "[-1 -1]\n",
      "[-1 -1]\n",
      "[-1  1]\n",
      "[1 1]\n",
      "[1 1]\n",
      "[1 1]\n",
      "[1 1]\n"
     ]
    },
    {
     "data": {
      "image/png": "[encoded data removed]",
      "text/plain": [
       "<Figure size 640x480 with 1 Axes>"
      ]
     },
     "metadata": {},
     "output_type": "display_data"
    }
   ],
   "source": [
    "import os\n",
    "from PIL import Image\n",
    "from torch.utils.data import Dataset, DataLoader\n",
    "import numpy\n",
    "import torchvision.transforms as transforms\n",
    "import matplotlib.pyplot as plt\n",
    "\n",
    "class CustomDataset(Dataset):\n",
    "    def __init__(self, root_dir, transform=None, size=10):\n",
    "        self.root_dir = root_dir\n",
    "        self.transform = transform\n",
    "        self.image_paths = []\n",
    "        self.labels = []\n",
    "\n",
    "        # 遍历文件夹，收集图片路径和标签\n",
    "        for label in [0, 1]:\n",
    "            label_dir = os.path.join(root_dir, f\"{label}\")\n",
    "            count = 0\n",
    "            for filename in os.listdir(label_dir):\n",
    "                count = count + 1\n",
    "                if count < size:\n",
    "                    self.image_paths.append(os.path.join(label_dir, filename))\n",
    "                    self.labels.append(-1 if label == 0 else 1)\n",
    "\n",
    "    def __len__(self):\n",
    "        return len(self.image_paths)\n",
    "\n",
    "    def __getitem__(self, idx):\n",
    "        image_path = self.image_paths[idx]\n",
    "        label = self.labels[idx]\n",
    "\n",
    "        #image = Image.open(image_path).convert(\"RGB\")\n",
    "        image = Image.open(image_path).convert(\"L\")\n",
    "        \n",
    "        if self.transform:\n",
    "            image = self.transform(image)\n",
    "\n",
    "        image_array = numpy.array(image).flatten()\n",
    "        \n",
    "        return image_array, label\n",
    "\n",
    "def collate_fn(batch):\n",
    "    images = []\n",
    "    labels = []\n",
    "    \n",
    "    for image, label in batch:\n",
    "        images.append(image)\n",
    "        labels.append(label)\n",
    "    \n",
    "    return numpy.array(images), numpy.array(labels)\n",
    "\n",
    "transform = transforms.Compose([\n",
    "    transforms.ToTensor(),  # 将图像转换为张量\n",
    "    transforms.Normalize((0.5,), (0.5,))  # 标准化和归一化\n",
    "])\n",
    "transform = None\n",
    "\n",
    "test_dataset = CustomDataset(root_dir='./data/mnist/size_8/test/', transform=transform)\n",
    "\n",
    "test_dataloader = DataLoader(test_dataset, batch_size=2, shuffle=False, collate_fn=collate_fn)\n",
    "\n",
    "flag = 0\n",
    "for images, labels in test_dataloader:\n",
    "    # 在此处执行您的训练逻辑\n",
    "    print(f\"{labels}\")\n",
    "    if flag == 0:\n",
    "        flag = 1\n",
    "        print(f\"{images}\")\n",
    "        plt.imshow(numpy.array(images[0]).reshape(-1, 8), cmap='gray')\n",
    "    #print(f\"{images}\")\n",
    "\n",
    "\n"
   ]
  },
  {
   "cell_type": "code",
   "execution_count": null,
   "metadata": {},
   "outputs": [],
   "source": []
  }
 ],
 "metadata": {
  "kernelspec": {
   "display_name": "qml",
   "language": "python",
   "name": "python3"
  },
  "language_info": {
   "codemirror_mode": {
    "name": "ipython",
    "version": 3
   },
   "file_extension": ".py",
   "mimetype": "text/x-python",
   "name": "python",
   "nbconvert_exporter": "python",
   "pygments_lexer": "ipython3",
   "version": "3.8.16"
  },
  "orig_nbformat": 4
 },
 "nbformat": 4,
 "nbformat_minor": 2
}
