{
 "cells": [
  {
   "cell_type": "code",
   "execution_count": 2,
   "metadata": {},
   "outputs": [],
   "source": [
    "import numpy as np\n",
    "import pandas as pd\n",
    "import seaborn as sns\n",
    "import matplotlib.pyplot as plt\n",
    "\n",
    "filename = \"results.csv\"  # 替换为你的文件名\n",
    "\n",
    "data = np.loadtxt(filename, delimiter=\",\")\n",
    "\n",
    "# 创建DataFrame对象\n",
    "df = pd.DataFrame({\n",
    "    'loss': data[:, 0],\n",
    "    'averages': data[:, 2],\n",
    "    'Distance': data[:, 4],\n",
    "    'Standard Deviation': data[:, 3],\n",
    "    'Variance': data[:, 5],\n",
    "    \n",
    "    \n",
    "})\n",
    "\n",
    "# 绘制关系图\n",
    "\n",
    "#sns.pairplot(df, diag_kind=\"hist\", vars=['loss', 'averages', 'Distance', 'Standard Deviation', 'Variance'],)\n",
    "\n",
    "#sns.pairplot(df, hue=\"loss\", palette=\"viridis\", vars=['loss', 'averages', 'Distance', 'Standard Deviation', 'Variance'],\n",
    "#             plot_kws={'s': 2, 'alpha': 0.7, 'edgecolor': 'none'},)\n",
    "\n",
    "sns.pairplot(df, hue=\"loss\", palette=\"viridis\", vars=['loss', 'averages', 'Variance'],\n",
    "             plot_kws={'s': 10, 'alpha': 0.7, 'edgecolor': 'none'}, diag_kind=\"hist\")\n",
    "plt.show()\n"
   ]
  },
  {
   "cell_type": "code",
   "execution_count": null,
   "metadata": {},
   "outputs": [],
   "source": []
  }
 ],
 "metadata": {
  "kernelspec": {
   "display_name": "qml",
   "language": "python",
   "name": "python3"
  },
  "language_info": {
   "codemirror_mode": {
    "name": "ipython",
    "version": 3
   },
   "file_extension": ".py",
   "mimetype": "text/x-python",
   "name": "python",
   "nbconvert_exporter": "python",
   "pygments_lexer": "ipython3",
   "version": "3.8.16"
  },
  "orig_nbformat": 4
 },
 "nbformat": 4,
 "nbformat_minor": 2
}
